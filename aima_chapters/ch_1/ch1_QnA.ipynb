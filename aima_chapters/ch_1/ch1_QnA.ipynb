{
 "cells": [
  {
   "cell_type": "markdown",
   "metadata": {
    "id": "GwjKSCX1Ms1j"
   },
   "source": [
    "<h2>Ex. 1.1</h2>\n",
    "\n",
    "**Define in your own words:**<br> \n",
    "(a) intelligence, <br>\n",
    "(b) artificial intelligence, <br>\n",
    "(c) agent, <br>\n",
    "(d) rationality, <br>\n",
    "(e) logical reasoning."
   ]
  },
  {
   "cell_type": "markdown",
   "metadata": {},
   "source": [
    "<h2>Ex. 1.2</h2>\n",
    "\n",
    "**Read Turing’s original paper on AI @Turing:1950. In the paper, he discusses several objections to his proposed enterprise and his test for intelligence. Which objections still carry weight? Are his refutations valid? Can you think of new objections arising from developments since he wrote the paper? In the paper, he predicts that, by the year 2000, a computer will have a 30% chance of passing a five-minute Turing Test with an unskilled interrogator. What chance do you think a computer would have today? In another 50 years?**"
   ]
  },
  {
   "cell_type": "markdown",
   "metadata": {},
   "source": [
    "<h2>Ex. 1.3</h2>\n",
    "\n",
    "**Are reflex actions (such as flinching from a hot stove) rational? Are they intelligent?**"
   ]
  },
  {
   "cell_type": "markdown",
   "metadata": {},
   "source": [
    "<h2>Ex. 1.4</h2>\n",
    "\n",
    "**Suppose we extend Evans’s SYSTEM program so that it can score 200 on a standard IQ test. Would we then have a program more intelligent than a human? Explain.**"
   ]
  },
  {
   "cell_type": "markdown",
   "metadata": {},
   "source": [
    "<h2>Ex. 1.5</h2>\n",
    "\n",
    "**The neural structure of the sea slug Aplysia has been widely studied (first by Nobel Laureate Eric Kandel) because it has only about 20,000 neurons, most of them large and easily manipulated. Assuming that the cycle time for an Aplysia neuron is roughly the same as for a human neuron, how does the computational power, in terms of memory updates per second, compare with the high-end computer described in (Figure 1.3)?**"
   ]
  },
  {
   "cell_type": "markdown",
   "metadata": {},
   "source": [
    "<h2>Ex. 1.6</h2>\n",
    "\n",
    "**How could introspection—reporting on one’s inner thoughts—be inaccurate? Could I be wrong about what I’m thinking? Discuss.**"
   ]
  },
  {
   "cell_type": "markdown",
   "metadata": {},
   "source": [
    "<h2>Ex. 1.7</h2>\n",
    "\n",
    "**To what extent are the following computer systems instances of artificial intelligence:**\n",
    "\n",
    "* Supermarket bar code scanners.\n",
    "\n",
    "* Voice-activated telephone menus.\n",
    "\n",
    "* Spelling and grammar correction features in Microsoft Word.\n",
    "\n",
    "* Internet routing algorithms that respond dynamically to the state of the network.\n",
    "\n",
    "* Web search engines.\n",
    "\n"
   ]
  },
  {
   "cell_type": "markdown",
   "metadata": {},
   "source": [
    "<h2>Ex. 1.8</h2>\n",
    "\n",
    "**Many of the computational models of cognitive activities that have been proposed involve quite complex mathematical operations, such as convolving an image with a Gaussian or finding a minimum of the entropy function. Most humans (and certainly all animals) never learn this kind of mathematics at all, almost no one learns it before college, and almost no one can compute the convolution of a function with a Gaussian in their head. What sense does it make to say that the “vision system” is doing this kind of mathematics, whereas the actual person has no idea how to do it?**"
   ]
  },
  {
   "cell_type": "markdown",
   "metadata": {},
   "source": [
    "<h2>Ex. 1.9</h2>\n",
    "\n",
    "**Why would evolution tend to result in systems that act rationally? What goals are such systems designed to achieve?**"
   ]
  },
  {
   "cell_type": "markdown",
   "metadata": {},
   "source": [
    "<h2>Ex. 1.10</h2>\n",
    "\n",
    "**Is AI a science, or is it engineering? Or neither or both? Explain.**"
   ]
  },
  {
   "cell_type": "markdown",
   "metadata": {},
   "source": [
    "<h2>Ex. 1.11</h2>\n",
    "\n",
    "**“Surely computers cannot be intelligent—they can do only what their programmers tell them.” Is the latter statement true, and does it imply the former?**"
   ]
  },
  {
   "cell_type": "markdown",
   "metadata": {},
   "source": [
    "<h2>Ex. 1.12</h2>\n",
    "\n",
    "**“Surely animals cannot be intelligent—they can do only what their genes tell them.” Is the latter statement true, and does it imply the former?**"
   ]
  },
  {
   "cell_type": "markdown",
   "metadata": {},
   "source": [
    "<h2>Ex. 1.13</h2>\n",
    "\n",
    "**“Surely animals, humans, and computers cannot be intelligent—they can do only what their constituent atoms are told to do by the laws of physics.” Is the latter statement true, and does it imply the former?**"
   ]
  },
  {
   "cell_type": "markdown",
   "metadata": {},
   "source": [
    "<h2>Ex. 1.14</h2>\n",
    "\n",
    "**Examine the AI literature to discover whether the following tasks can currently be solved by computers:**\n",
    "\n",
    "* Playing a decent game of table tennis (Ping-Pong).\n",
    "* Driving in the center of Cairo, Egypt.\n",
    "* Driving in Victorville, California.\n",
    "* Buying a week’s worth of groceries at the market.\n",
    "* Buying a week’s worth of groceries on the Web.\n",
    "* Playing a decent game of bridge at a competitive level.\n",
    "* Discovering and proving new mathematical theorems.\n",
    "* Writing an intentionally funny story.\n",
    "* Giving competent legal advice in a specialized area of law.\n",
    "* Translating spoken English into spoken Swedish in real time.\n",
    "* Performing a complex surgical operation."
   ]
  },
  {
   "cell_type": "markdown",
   "metadata": {},
   "source": [
    "<h2>Ex. 1.15</h2>\n",
    "\n",
    "**For the currently infeasible tasks, try to find out what the difficulties are and predict when, if ever, they will be overcome.**"
   ]
  },
  {
   "cell_type": "markdown",
   "metadata": {},
   "source": [
    "<h2>Ex. 1.16</h2>\n",
    "\n",
    "**Various subfields of AI have held contests by defining a standard task and inviting researchers to do their best. Examples include the DARPA Grand Challenge for robotic cars, the International Planning Competition, the Robocup robotic soccer league, the TREC information retrieval event, and contests in machine translation and speech recognition. Investigate five of these contests and describe the progress made over the years. To what degree have the contests advanced the state of the art in AI? To what degree do they hurt the field by drawing energy away from new ideas?**"
   ]
  },
  {
   "cell_type": "markdown",
   "metadata": {},
   "source": [
    "<h2>Ex. 1.17</h2>\n",
    "\n",
    "**Every year the Loebner Prize is awarded to the program that comes closest to passing a version of the Turing Test. Research and report on the latest winner of the Loebner prize. What techniques does it use? How does it advance the state of the art in AI?**"
   ]
  },
  {
   "cell_type": "markdown",
   "metadata": {},
   "source": [
    "<h2>Ex. 1.18</h2>\n",
    "\n",
    "**Some authors have claimed that perception and motor skills are the most important part of intelligence, and that “higher level” capacities are necessarily parasitic—simple add-ons to these underlying facilities. Certainly, most of evolution and a large part of the brain have been devoted to perception and motor skills, whereas AI has found tasks such as game playing and logical inference to be easier, in many ways, than perceiving and acting in the real world. Do you think that AI’s traditional focus on higher-level cognitive abilities is misplaced?**"
   ]
  },
  {
   "cell_type": "markdown",
   "metadata": {},
   "source": [
    "<h2>Ex. 1.19</h2>\n",
    "\n",
    "**There are well-known classes of problems that are intractably difficult for computers, and other classes that are provably undecidable. Does this mean that AI is impossible?**"
   ]
  }
 ],
 "metadata": {
  "colab": {
   "collapsed_sections": [],
   "name": "1_getting_started_nltk.ipynb",
   "provenance": []
  },
  "kernelspec": {
   "display_name": "Python 3",
   "language": "python",
   "name": "python3"
  },
  "language_info": {
   "codemirror_mode": {
    "name": "ipython",
    "version": 3
   },
   "file_extension": ".py",
   "mimetype": "text/x-python",
   "name": "python",
   "nbconvert_exporter": "python",
   "pygments_lexer": "ipython3",
   "version": "3.7.5"
  }
 },
 "nbformat": 4,
 "nbformat_minor": 1
}
