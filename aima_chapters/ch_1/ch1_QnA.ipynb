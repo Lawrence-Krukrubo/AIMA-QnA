{
 "cells": [
  {
   "cell_type": "markdown",
   "metadata": {
    "id": "GwjKSCX1Ms1j"
   },
   "source": [
    "<h2>Ex. 1.1</h2>\n",
    "\n",
    "**Define in your own words:**<br> \n",
    "(a) intelligence, <br>\n",
    "(b) artificial intelligence, <br>\n",
    "(c) agent, <br>\n",
    "(d) rationality, <br>\n",
    "(e) logical reasoning."
   ]
  },
  {
   "cell_type": "markdown",
   "metadata": {},
   "source": [
    "<h2>Ex. 1.2</h2>\n",
    "\n",
    "**Read Turing’s original paper on AI @Turing:1950. In the paper, he discusses several objections to his proposed enterprise and his test for intelligence. Which objections still carry weight? Are his refutations valid? Can you think of new objections arising from developments since he wrote the paper? In the paper, he predicts that, by the year 2000, a computer will have a 30% chance of passing a five-minute Turing Test with an unskilled interrogator. What chance do you think a computer would have today? In another 50 years?**"
   ]
  },
  {
   "cell_type": "markdown",
   "metadata": {},
   "source": [
    "<h2>Ex. 1.3</h2>\n",
    "\n",
    "**Are reflex actions (such as flinching from a hot stove) rational? Are they intelligent?**"
   ]
  },
  {
   "cell_type": "markdown",
   "metadata": {},
   "source": [
    "<h2>Ex. 1.4</h2>\n",
    "\n",
    "**Suppose we extend Evans’s SYSTEM program so that it can score 200 on a standard IQ test. Would we then have a program more intelligent than a human? Explain.**"
   ]
  },
  {
   "cell_type": "markdown",
   "metadata": {},
   "source": [
    "<h2>Ex. 1.5</h2>\n",
    "\n",
    "**The neural structure of the sea slug Aplysia has been widely studied (first by Nobel Laureate Eric Kandel) because it has only about 20,000 neurons, most of them large and easily manipulated. Assuming that the cycle time for an Aplysia neuron is roughly the same as for a human neuron, how does the computational power, in terms of memory updates per second, compare with the high-end computer described in (Figure 1.3)?**"
   ]
  },
  {
   "cell_type": "markdown",
   "metadata": {},
   "source": [
    "<h2>Ex. 1.6</h2>\n",
    "\n",
    "**How could introspection—reporting on one’s inner thoughts—be inaccurate? Could I be wrong about what I’m thinking? Discuss.**"
   ]
  },
  {
   "cell_type": "markdown",
   "metadata": {},
   "source": [
    "<h2>Ex. 1.7</h2>\n",
    "\n",
    "**To what extent are the following computer systems instances of artificial intelligence:**\n",
    "\n",
    "* Supermarket bar code scanners.\n",
    "\n",
    "* Voice-activated telephone menus.\n",
    "\n",
    "* Spelling and grammar correction features in Microsoft Word.\n",
    "\n",
    "* Internet routing algorithms that respond dynamically to the state of the network.\n",
    "\n"
   ]
  },
  {
   "cell_type": "markdown",
   "metadata": {},
   "source": [
    "<h2>Ex. 1.8</h2>\n",
    "\n",
    "**Many of the computational models of cognitive activities that have been proposed involve quite complex mathematical operations, such as convolving an image with a Gaussian or finding a minimum of the entropy function. Most humans (and certainly all animals) never learn this kind of mathematics at all, almost no one learns it before college, and almost no one can compute the convolution of a function with a Gaussian in their head. What sense does it make to say that the “vision system” is doing this kind of mathematics, whereas the actual person has no idea how to do it?**"
   ]
  },
  {
   "cell_type": "markdown",
   "metadata": {},
   "source": []
  },
  {
   "cell_type": "markdown",
   "metadata": {},
   "source": []
  },
  {
   "cell_type": "markdown",
   "metadata": {},
   "source": []
  }
 ],
 "metadata": {
  "colab": {
   "collapsed_sections": [],
   "name": "1_getting_started_nltk.ipynb",
   "provenance": []
  },
  "kernelspec": {
   "display_name": "Python 3",
   "language": "python",
   "name": "python3"
  },
  "language_info": {
   "codemirror_mode": {
    "name": "ipython",
    "version": 3
   },
   "file_extension": ".py",
   "mimetype": "text/x-python",
   "name": "python",
   "nbconvert_exporter": "python",
   "pygments_lexer": "ipython3",
   "version": "3.7.5"
  }
 },
 "nbformat": 4,
 "nbformat_minor": 1
}
